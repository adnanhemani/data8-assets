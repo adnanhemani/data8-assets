{
 "cells": [
  {
   "cell_type": "code",
   "execution_count": null,
   "metadata": {
    "collapsed": true
   },
   "outputs": [],
   "source": [
    "import numpy as np\n",
    "from datascience import *"
   ]
  },
  {
   "cell_type": "markdown",
   "metadata": {},
   "source": [
    "# Exercise 1"
   ]
  },
  {
   "cell_type": "markdown",
   "metadata": {},
   "source": [
    "### Find all years of Presidential Elections in the United States between 1788 and 2016"
   ]
  },
  {
   "cell_type": "code",
   "execution_count": null,
   "metadata": {
    "collapsed": false
   },
   "outputs": [],
   "source": [
    "pres_elections = ...\n",
    "pres_elections"
   ]
  },
  {
   "cell_type": "markdown",
   "metadata": {
    "collapsed": true
   },
   "source": [
    "### How long of a yearspan is this?"
   ]
  },
  {
   "cell_type": "code",
   "execution_count": null,
   "metadata": {
    "collapsed": false
   },
   "outputs": [],
   "source": [
    "yearspan = ...\n",
    "yearspan"
   ]
  },
  {
   "cell_type": "markdown",
   "metadata": {},
   "source": [
    "# Exercise 2"
   ]
  },
  {
   "cell_type": "markdown",
   "metadata": {},
   "source": [
    "### Suppose I start with $10,000 dollars. According to compound interest, tell me how much money I will have in each of the next 20 years (given I don't ever touch the money and assuming an interest rate of 5% and 2 compoundings per year)."
   ]
  },
  {
   "cell_type": "markdown",
   "metadata": {},
   "source": [
    "The formula for compund interest is A = P(1 + r/n)^(n*t), where r is the interest rate (as a decimal), n is the number of compoundings per year, and t is the amount of years."
   ]
  },
  {
   "cell_type": "code",
   "execution_count": null,
   "metadata": {
    "collapsed": false
   },
   "outputs": [],
   "source": [
    "amount_of_money_per_year = ...\n",
    "amount_of_money_per_year"
   ]
  },
  {
   "cell_type": "markdown",
   "metadata": {},
   "source": [
    "### You find a store that keeps discounting their items by a certain percentage each day for 10 days. How much will this $1000 item cost on each of the 10 days?"
   ]
  },
  {
   "cell_type": "code",
   "execution_count": null,
   "metadata": {
    "collapsed": false
   },
   "outputs": [],
   "source": [
    "discounts = make_array(5, 10, 4, 8, 6, 4, 9, 20, 4, 12) #Percentage of discount each day\n",
    "\n",
    "# Hint: First make the array of discounts into an array that represents the discounts as a decimal. \n",
    "# Then find what proportion of the total price each discount represents (i.e. a 5% discount means it \n",
    "# represents 95% of the total price of the product). Then you can calculate the price of the item each day\n",
    "\n",
    "discounts_as_decimals = ...\n",
    "discounts_as_proportion_of_total_price = ...\n",
    "price_by_day = ...\n",
    "price_by_day"
   ]
  },
  {
   "cell_type": "markdown",
   "metadata": {},
   "source": [
    "# Exercise 3"
   ]
  },
  {
   "cell_type": "markdown",
   "metadata": {},
   "source": [
    "## You realize you're being super mean today by screaming at everyone on your chats. Take your chats and lowercase all of them."
   ]
  },
  {
   "cell_type": "code",
   "execution_count": null,
   "metadata": {
    "collapsed": false
   },
   "outputs": [],
   "source": [
    "chats = make_array([\"HI\", \"WHERE ARE YOU\", \"COME BACK\", \"HELLO FRIEND\", \"I AM AT SODA HALL\", \"I'M DOING HOMEWORK\"])\n",
    "\n",
    "calm_chats = ...\n",
    "calm_chats"
   ]
  },
  {
   "cell_type": "markdown",
   "metadata": {},
   "source": [
    "## You downloaded some of your messages and realize that all of the messages are mixed up now. Separate the messages you sent from those your friend sent."
   ]
  },
  {
   "cell_type": "code",
   "execution_count": null,
   "metadata": {
    "collapsed": false
   },
   "outputs": [],
   "source": [
    "messages = make_array([\"Me: Hello\", \"Friend: What's up\", \"Me: Just doing some homework\", \"Friend: That's great!\", \n",
    "                    \"Me: Can you give me the answer to Q3?\", \"Friend: Nope that's cheating!!!!\", \n",
    "                    \"Me: Good - just checking you knew the course policies!\", \"Friend: Of course!\"])\n",
    "\n",
    "# Hint: Notice how each of your messages starts differently than your friend's messages. \n",
    "# Use that to separate the messages.\n",
    "\n",
    "# Hint pt. 2: You can use a numpy function to find whether each chat starts with a certain string. \n",
    "# You can then subset an array using the array of boolean values the numpy function will give you.\n",
    "# Ex.:\n",
    "# a = make_array(1, 2, 3, 4, 5, 6)\n",
    "# bools = [True, True, False, True, False, False]\n",
    "# a[bools]\n",
    "# >>> array([1, 2, 4])\n",
    "\n",
    "my_messages_boolean_format = ...\n",
    "friend_messages_boolean_format = ...\n",
    "\n",
    "my_messages = ...\n",
    "friend_messages = ...\n",
    "print(\"My chats: \" + str(my_messages))\n",
    "print(\"Friend's chats: \" + str(friend_messages))"
   ]
  },
  {
   "cell_type": "code",
   "execution_count": null,
   "metadata": {
    "collapsed": true
   },
   "outputs": [],
   "source": []
  },
  {
   "cell_type": "code",
   "execution_count": null,
   "metadata": {
    "collapsed": true
   },
   "outputs": [],
   "source": []
  }
 ],
 "metadata": {
  "anaconda-cloud": {},
  "kernelspec": {
   "display_name": "Python [default]",
   "language": "python",
   "name": "python3"
  },
  "language_info": {
   "codemirror_mode": {
    "name": "ipython",
    "version": 3
   },
   "file_extension": ".py",
   "mimetype": "text/x-python",
   "name": "python",
   "nbconvert_exporter": "python",
   "pygments_lexer": "ipython3",
   "version": "3.5.2"
  }
 },
 "nbformat": 4,
 "nbformat_minor": 1
}
