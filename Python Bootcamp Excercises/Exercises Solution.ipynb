{
 "cells": [
  {
   "cell_type": "code",
   "execution_count": 1,
   "metadata": {
    "collapsed": true
   },
   "outputs": [],
   "source": [
    "import numpy as np\n",
    "from datascience import *"
   ]
  },
  {
   "cell_type": "markdown",
   "metadata": {},
   "source": [
    "# Exercise 1"
   ]
  },
  {
   "cell_type": "markdown",
   "metadata": {},
   "source": [
    "### Find all years of Presidential Elections in the United States between 1788 and 2016"
   ]
  },
  {
   "cell_type": "code",
   "execution_count": 10,
   "metadata": {
    "collapsed": false
   },
   "outputs": [
    {
     "data": {
      "text/plain": [
       "array([1788, 1792, 1796, 1800, 1804, 1808, 1812, 1816, 1820, 1824, 1828,\n",
       "       1832, 1836, 1840, 1844, 1848, 1852, 1856, 1860, 1864, 1868, 1872,\n",
       "       1876, 1880, 1884, 1888, 1892, 1896, 1900, 1904, 1908, 1912, 1916,\n",
       "       1920, 1924, 1928, 1932, 1936, 1940, 1944, 1948, 1952, 1956, 1960,\n",
       "       1964, 1968, 1972, 1976, 1980, 1984, 1988, 1992, 1996, 2000, 2004,\n",
       "       2008, 2012, 2016])"
      ]
     },
     "execution_count": 10,
     "metadata": {},
     "output_type": "execute_result"
    }
   ],
   "source": [
    "#Solution\n",
    "pres_elections = np.arange(1788, 2017, 4)\n",
    "pres_elections"
   ]
  },
  {
   "cell_type": "markdown",
   "metadata": {
    "collapsed": true
   },
   "source": [
    "### How long of a yearspan is this?"
   ]
  },
  {
   "cell_type": "code",
   "execution_count": 17,
   "metadata": {
    "collapsed": false
   },
   "outputs": [
    {
     "data": {
      "text/plain": [
       "228"
      ]
     },
     "execution_count": 17,
     "metadata": {},
     "output_type": "execute_result"
    }
   ],
   "source": [
    "#solution\n",
    "yearspan = max(pres_elections) - min(pres_elections)\n",
    "yearspan"
   ]
  },
  {
   "cell_type": "markdown",
   "metadata": {},
   "source": [
    "# Exercise 2"
   ]
  },
  {
   "cell_type": "markdown",
   "metadata": {},
   "source": [
    "### Suppose I start with $10,000 dollars. According to compound interest, tell me how much money I will have in each of the next 20 years (given I don't ever touch the money and assuming an interest rate of 5% and 2 compoundings per year)."
   ]
  },
  {
   "cell_type": "markdown",
   "metadata": {},
   "source": [
    "The formula for compund interest is A = P(1 + r/n)^(n*t), where r is the interest rate (as a decimal), n is the number of compoundings per year, and t is the amount of years."
   ]
  },
  {
   "cell_type": "code",
   "execution_count": 31,
   "metadata": {
    "collapsed": false
   },
   "outputs": [
    {
     "data": {
      "text/plain": [
       "array([ 10000.        ,  10506.25      ,  11038.12890625,  11596.93418213,\n",
       "        12184.0289751 ,  12800.84544196,  13448.88824246,  14129.73820974,\n",
       "        14845.05620661,  15596.58717707,  16386.1644029 ,  17215.7139758 ,\n",
       "        18087.25949583,  19002.9270078 ,  19964.95018757,  20975.67579082,\n",
       "        22037.56937773,  23153.22132748,  24325.35315718,  25556.82416076,\n",
       "        26850.6383839 ])"
      ]
     },
     "execution_count": 31,
     "metadata": {},
     "output_type": "execute_result"
    }
   ],
   "source": [
    "#solution\n",
    "amount_of_money_per_year = 10000*(1 + (0.05/2))**(2*np.arange(21))\n",
    "amount_of_money_per_year"
   ]
  },
  {
   "cell_type": "markdown",
   "metadata": {},
   "source": [
    "### You find a store that keeps discounting their items by a certain percentage each day for 10 days. How much will this $1000 item cost on each of the 10 days?"
   ]
  },
  {
   "cell_type": "code",
   "execution_count": 35,
   "metadata": {
    "collapsed": false
   },
   "outputs": [
    {
     "data": {
      "text/plain": [
       "array([ 950.        ,  855.        ,  820.8       ,  755.136     ,\n",
       "        709.82784   ,  681.4347264 ,  620.10560102,  496.08448082,\n",
       "        476.24110159,  419.0921694 ])"
      ]
     },
     "execution_count": 35,
     "metadata": {},
     "output_type": "execute_result"
    }
   ],
   "source": [
    "discounts = make_array(5, 10, 4, 8, 6, 4, 9, 20, 4, 12) #Percentage of discount each day\n",
    "\n",
    "#solutions\n",
    "discounts_as_decimals = discounts * 0.01\n",
    "discounts_as_proportion_of_total_price = 1 - discounts_as_decimals\n",
    "price_by_day = 1000 * np.cumprod(discounts_as_proportion_of_total_price)\n",
    "price_by_day"
   ]
  },
  {
   "cell_type": "markdown",
   "metadata": {},
   "source": [
    "# Exercise 3"
   ]
  },
  {
   "cell_type": "markdown",
   "metadata": {},
   "source": [
    "## You realize you're being super mean today by screaming at everyone on your chats. Take your chats and lowercase all of them."
   ]
  },
  {
   "cell_type": "code",
   "execution_count": 36,
   "metadata": {
    "collapsed": false
   },
   "outputs": [
    {
     "data": {
      "text/plain": [
       "array([['hi', 'where are you', 'come back', 'hello friend',\n",
       "        'i am at soda hall', \"i'm doing homework\"]], \n",
       "      dtype='<U18')"
      ]
     },
     "execution_count": 36,
     "metadata": {},
     "output_type": "execute_result"
    }
   ],
   "source": [
    "chats = make_array([\"HI\", \"WHERE ARE YOU\", \"COME BACK\", \"HELLO FRIEND\", \"I AM AT SODA HALL\", \"I'M DOING HOMEWORK\"])\n",
    "\n",
    "#solutions\n",
    "calm_chats = np.char.lower(chats)\n",
    "calm_chats"
   ]
  },
  {
   "cell_type": "markdown",
   "metadata": {},
   "source": [
    "## You downloaded some of your chats and realize that all of the chats are mixed up now. Separate the chats you sent from those your friend sent."
   ]
  },
  {
   "cell_type": "code",
   "execution_count": 46,
   "metadata": {
    "collapsed": false
   },
   "outputs": [
    {
     "name": "stdout",
     "output_type": "stream",
     "text": [
      "My chats: ['Me: Hello' 'Me: Just doing some homework'\n",
      " 'Me: Can you give me the answer to Q3?'\n",
      " 'Me: Good - just checking you knew the course policies!']\n",
      "Friend's chats: [\"Friend: What's up\" \"Friend: That's great!\"\n",
      " \"Friend: Nope that's cheating!!!!\" 'Friend: Of course!']\n"
     ]
    }
   ],
   "source": [
    "messages = make_array([\"Me: Hello\", \"Friend: What's up\", \"Me: Just doing some homework\", \"Friend: That's great!\", \n",
    "                    \"Me: Can you give me the answer to Q3?\", \"Friend: Nope that's cheating!!!!\", \n",
    "                    \"Me: Good - just checking you knew the course policies!\", \"Friend: Of course!\"])\n",
    "\n",
    "#Solution\n",
    "my_messages_boolean_format = np.char.startswith(messages, \"Me:\")\n",
    "friend_messages_boolean_format = np.char.startswith(messages, \"Friend:\")\n",
    "\n",
    "my_messages = messages[my_chats_boolean_format]\n",
    "friend_messages = messages[friend_chats_boolean_format]\n",
    "print(\"My chats: \" + str(my_messages))\n",
    "print(\"Friend's chats: \" + str(friend_messages))"
   ]
  },
  {
   "cell_type": "code",
   "execution_count": null,
   "metadata": {
    "collapsed": true
   },
   "outputs": [],
   "source": []
  }
 ],
 "metadata": {
  "anaconda-cloud": {},
  "kernelspec": {
   "display_name": "Python [default]",
   "language": "python",
   "name": "python3"
  },
  "language_info": {
   "codemirror_mode": {
    "name": "ipython",
    "version": 3
   },
   "file_extension": ".py",
   "mimetype": "text/x-python",
   "name": "python",
   "nbconvert_exporter": "python",
   "pygments_lexer": "ipython3",
   "version": "3.5.2"
  }
 },
 "nbformat": 4,
 "nbformat_minor": 1
}
